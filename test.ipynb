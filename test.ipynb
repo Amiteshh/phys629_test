{
 "cells": [
  {
   "cell_type": "code",
   "execution_count": 1,
   "id": "f92ec308",
   "metadata": {},
   "outputs": [
    {
     "name": "stdout",
     "output_type": "stream",
     "text": [
      "Estimated Integral: 1.1051580254976683\n",
      "68326\n"
     ]
    }
   ],
   "source": [
    "import numpy as np\n",
    "\n",
    "# Define the parameters\n",
    "N = 10**5  # Number of samples\n",
    "mean = 0\n",
    "std_dev = 3\n",
    "\n",
    "a=-3\n",
    "b=3\n",
    "\n",
    "function_values = []   # To store the output of the integrand evaluated at different sample values\n",
    "\n",
    "# Generate random samples from a Gaussian distribution\n",
    "samples = np.random.normal(mean, std_dev, N)\n",
    "\n",
    "# Define the function to integrate\n",
    "def integrand(x):\n",
    "    return (1 / np.sqrt(2 * np.pi)) * np.exp(-x**2 / 2)\n",
    "        \n",
    "for i in samples:\n",
    "    if -3 < i < 3:\n",
    "        function_values.append(integrand(i))\n",
    "\n",
    "# Estimate the integral using Monte Carlo integration\n",
    "integral_estimate = (b-a)*(np.mean(function_values))\n",
    "\n",
    "print(\"Estimated Integral:\", integral_estimate)\n",
    "\n",
    "print(len(function_values)) "
   ]
  },
  {
   "cell_type": "code",
   "execution_count": null,
   "id": "06f78abf",
   "metadata": {},
   "outputs": [],
   "source": []
  }
 ],
 "metadata": {
  "kernelspec": {
   "display_name": "Python [conda env:phys629] *",
   "language": "python",
   "name": "conda-env-phys629-py"
  },
  "language_info": {
   "codemirror_mode": {
    "name": "ipython",
    "version": 3
   },
   "file_extension": ".py",
   "mimetype": "text/x-python",
   "name": "python",
   "nbconvert_exporter": "python",
   "pygments_lexer": "ipython3",
   "version": "3.8.17"
  }
 },
 "nbformat": 4,
 "nbformat_minor": 5
}
